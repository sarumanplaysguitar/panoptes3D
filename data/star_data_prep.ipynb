{
 "cells": [
  {
   "cell_type": "markdown",
   "metadata": {},
   "source": [
    "## Star Data Prep\n",
    "The stars displayed on the PANOTPES 3D app are from the Mag 5 Star Catalog by Dr. John P. Pratt (<a href=\"https://www.johnpratt.com/items/astronomy/mag_5_stars.html\">johnpratt.com/items/astronomy/mag_5_stars.html</a>), which itself is a subset of the Yale Bright Star Catalog. The Mag 5 Star Catalog contains stars brighter than (or, less than) 5.5 visual magnitude*, totaling 3,923 stars.\n",
    "\n",
    "Here, the columns relevant to render stars (converted RA+Dec\\*\\*, brightness, color, constellation) are exported into a JS array. The star brightness threshold may be increased as well, decreasing the number of stars displayed, in order to optimize app performance/FPS.\n",
    "\n",
    "A small number of the stars are missing a B-V color, so for now, they will be replaced with 0.45 (roughly white on the B-V color index\\*\\*\\*). Later on, these stars can be queried in SIMBAD and have this temporary value replaced with the proper one.\n",
    "\n",
    "<small><small>\\*Certain stars dimmer than this were kept in the catalog for meeting other criterea; see the webpage for more details\n",
    "<br>\n",
    "\\*\\*Each star's RA and Dec will be converted from spherical coordinates, and then Cartesian (x, y, z) for placement in the 3D scene.\n",
    "<br>\n",
    "\\*\\*\\*See <a href=\"https://en.wikipedia.org/wiki/Color_index\">en.wikipedia.org/wiki/Color_index</a></small></small>"
   ]
  },
  {
   "cell_type": "code",
   "execution_count": 1,
   "metadata": {},
   "outputs": [],
   "source": [
    "import pandas as pd\n",
    "import matplotlib.pyplot as plt\n",
    "from math import sin, cos, pi\n",
    "import numpy as np"
   ]
  },
  {
   "cell_type": "code",
   "execution_count": 2,
   "metadata": {},
   "outputs": [],
   "source": [
    "# Set sky radius here, to match 3D scene\n",
    "sky_radius = 3.65"
   ]
  },
  {
   "cell_type": "code",
   "execution_count": 3,
   "metadata": {},
   "outputs": [],
   "source": [
    "# Import relevant columns from Mag 5 Star Catalog as dataframe\n",
    "\n",
    "# Relevant columns are:\n",
    "# [6] Constellation ID # (int)\n",
    "# [8-10] RA HMS (int, int, float)\n",
    "# [11] Dec hemisphere (string: 'N' or 'S')\n",
    "# [12-14] Dec DMS (int)\n",
    "# [15] Visual mag (float)\n",
    "# [16] B-V color index (float)\n",
    "\n",
    "cols = [6, 8, 9, 10, 11, 12, 13, 14, 15, 16]\n",
    "col_names = ['con', 'ra_h', 'ra_m', 'ra_s', 'hem', 'dec_d', 'dec_m', 'dec_s', 'vmag', 'bv']\n",
    "\n",
    "stars = pd.read_table('mag_5_stars.csv', delimiter=',', usecols=cols, header=0, names=col_names)"
   ]
  },
  {
   "cell_type": "code",
   "execution_count": 4,
   "metadata": {},
   "outputs": [],
   "source": [
    "# Create list for all the stars, each entry being a list of parameters of a particular star\n",
    "stars_arr = []\n",
    "\n",
    "\n",
    "# Need these to convert RA and Dec\n",
    "\n",
    "def ra_hms_to_dd(h, m, s):\n",
    "    dd = (15*h) + (15*m/60) + (15*s/3600)\n",
    "    return dd\n",
    "\n",
    "def dec_dms_to_dd(d, m, s):\n",
    "    dd = d + (m/60) + (s/3600)\n",
    "    \n",
    "    return dd\n",
    "\n",
    "def deg_to_rad(deg):\n",
    "    return deg * pi / 180.\n",
    "\n",
    "def equatorial_to_cartesian(sky_radius, ra_rad, dec_rad, hem):\n",
    "    '''Takes the following:\n",
    "    sky_radius: arbitrary radius of sky in 3D scene. \n",
    "                (Best if a few decimal points smaller than actual radius, to avoid z-fighting)\n",
    "                (should I just take the actual val and handle that in here?? ...whatever)\n",
    "    ra_rad: RA in radians\n",
    "    dec_rad: Dec in radians (MUST BE POSITIVE)\n",
    "    hem: used to specify whether y-coord is + or - (if star is in N or S hemisphere)\n",
    "         (Note: The y-axis in three.js is the conventional \"up\"/z-axis. \n",
    "         Conventional y and x are the x and z axes, respectively, in three.js)\n",
    "    \n",
    "    Returns x, y, z coordinates rounded to 4 decimal places.\n",
    "    '''\n",
    "    \n",
    "    # Here, rho = distance from point to origin,\n",
    "    # theta = equator angle around the vertical axis,\n",
    "    # phi = angle from vertical/up axis.\n",
    "    # Sign of phi must be flipped because RA goes clockwise, and phi goes counterclockwise.\n",
    "\n",
    "    rho = sky_radius\n",
    "    theta = -1 * ra_rad\n",
    "    phi = pi/2. - dec_rad\n",
    "    \n",
    "    if hem == 'N':\n",
    "        sign = 1\n",
    "    elif hem == 'S':\n",
    "        sign = -1\n",
    "\n",
    "    z = round(rho * sin(phi) * cos(theta), 4)\n",
    "    y = sign * round(rho * cos(phi), 4)\n",
    "    x = round(rho * sin(phi) * sin(theta), 4)\n",
    "    \n",
    "    return x, y, z"
   ]
  },
  {
   "cell_type": "code",
   "execution_count": 5,
   "metadata": {
    "scrolled": true
   },
   "outputs": [
    {
     "name": "stdout",
     "output_type": "stream",
     "text": [
      "File save complete\n",
      "(61 stars missing B-V data)\n"
     ]
    }
   ],
   "source": [
    "# Iterate over all stars (rows in df) to extract each star's data\n",
    "# Save this data in mag_5_stars.js\n",
    "# Also log how many stars were missing B-V color data\n",
    "\n",
    "count_missing_color = 0\n",
    "for i in range(len(stars)):\n",
    "    \n",
    "    # Convert star RA HMS to decimal degrees; round to 4 decimals\n",
    "    ra_h = stars['ra_h'].iloc[i]\n",
    "    ra_m = stars['ra_m'].iloc[i]\n",
    "    ra_s = stars['ra_s'].iloc[i]\n",
    "    ra_dd = ra_hms_to_dd(ra_h, ra_m, ra_s)\n",
    "    \n",
    "    # Convert star Dec DMS to decimal degrees, w/ correct sign (+ -)\n",
    "    dec_d = stars['dec_d'].iloc[i]\n",
    "    dec_m = stars['dec_m'].iloc[i]\n",
    "    dec_s = stars['dec_s'].iloc[i]\n",
    "    dec_dd = dec_dms_to_dd(dec_d, dec_m, dec_s)\n",
    "    \n",
    "    # Convert RA and Dec to radians\n",
    "    ra_rad = deg_to_rad(ra_dd)\n",
    "    dec_rad = deg_to_rad(dec_dd)\n",
    "    \n",
    "    # Convert RA and Dec from equatorial to cartesian\n",
    "    hem = stars['hem'].iloc[i]\n",
    "    x, y, z = equatorial_to_cartesian(sky_radius, ra_rad, dec_rad, hem)\n",
    "    \n",
    "    # Get star visual mag, color, and constellation ID #\n",
    "    vmag = stars['vmag'].iloc[i]\n",
    "    color = stars['bv'].iloc[i]\n",
    "    con = stars['con'].iloc[i]\n",
    "    \n",
    "    # Check that color data is not nan\n",
    "    if color!=color:\n",
    "        count_missing_color += 1\n",
    "    color = 0.45 if color!=color else color\n",
    "\n",
    "    \n",
    "    # Each star will have data indexed in this order:\n",
    "    star_data = [x, y, z, vmag, color, con]\n",
    "    stars_arr.append(star_data)\n",
    "\n",
    "  \n",
    "f = open('mag_5_stars.js', 'w')\n",
    "f.write(f'stars_arr={stars_arr}')\n",
    "f.close()\n",
    "\n",
    "print('File save complete')\n",
    "print(f'({count_missing_color} stars missing B-V data)')"
   ]
  },
  {
   "cell_type": "code",
   "execution_count": 8,
   "metadata": {
    "scrolled": true
   },
   "outputs": [
    {
     "data": {
      "text/plain": [
       "<matplotlib.collections.PathCollection at 0x120329f98>"
      ]
     },
     "execution_count": 8,
     "metadata": {},
     "output_type": "execute_result"
    },
    {
     "data": {
      "image/png": "[encoded data removed]",
      "text/plain": [
       "<Figure size 432x288 with 1 Axes>"
      ]
     },
     "metadata": {
      "needs_background": "light"
     },
     "output_type": "display_data"
    }
   ],
   "source": [
    "plt.scatter(range(len(stars_arr)), [stars_arr[i][3] for i in range(len(stars_arr))])"
   ]
  },
  {
   "cell_type": "code",
   "execution_count": null,
   "metadata": {},
   "outputs": [],
   "source": []
  }
 ],
 "metadata": {
  "kernelspec": {
   "display_name": "Python 3",
   "language": "python",
   "name": "python3"
  },
  "language_info": {
   "codemirror_mode": {
    "name": "ipython",
    "version": 3
   },
   "file_extension": ".py",
   "mimetype": "text/x-python",
   "name": "python",
   "nbconvert_exporter": "python",
   "pygments_lexer": "ipython3",
   "version": "3.7.3"
  }
 },
 "nbformat": 4,
 "nbformat_minor": 2
}
